{
 "cells": [
  {
   "cell_type": "markdown",
   "metadata": {},
   "source": [
    "### Heroes Of Pymoli Data Analysis\n",
    "* Of the 1163 active players, the vast majority are male (84%). There also exists, a smaller, but notable proportion of female players (14%).\n",
    "\n",
    "* Our peak age demographic falls between 20-24 (44.8%) with secondary groups falling between 15-19 (18.60%) and 25-29 (13.4%).  \n",
    "-----"
   ]
  },
  {
   "cell_type": "markdown",
   "metadata": {},
   "source": [
    "### Note\n",
    "* Instructions have been included for each segment. You do not have to follow them exactly, but they are included to help you think through the steps."
   ]
  },
  {
   "cell_type": "code",
   "execution_count": 1,
   "metadata": {},
   "outputs": [
    {
     "data": {
      "text/html": [
       "<div>\n",
       "<style scoped>\n",
       "    .dataframe tbody tr th:only-of-type {\n",
       "        vertical-align: middle;\n",
       "    }\n",
       "\n",
       "    .dataframe tbody tr th {\n",
       "        vertical-align: top;\n",
       "    }\n",
       "\n",
       "    .dataframe thead th {\n",
       "        text-align: right;\n",
       "    }\n",
       "</style>\n",
       "<table border=\"1\" class=\"dataframe\">\n",
       "  <thead>\n",
       "    <tr style=\"text-align: right;\">\n",
       "      <th></th>\n",
       "      <th>Purchase ID</th>\n",
       "      <th>SN</th>\n",
       "      <th>Age</th>\n",
       "      <th>Gender</th>\n",
       "      <th>Item ID</th>\n",
       "      <th>Item Name</th>\n",
       "      <th>Price</th>\n",
       "    </tr>\n",
       "  </thead>\n",
       "  <tbody>\n",
       "    <tr>\n",
       "      <th>0</th>\n",
       "      <td>0</td>\n",
       "      <td>Lisim78</td>\n",
       "      <td>20</td>\n",
       "      <td>Male</td>\n",
       "      <td>108</td>\n",
       "      <td>Extraction, Quickblade Of Trembling Hands</td>\n",
       "      <td>3.53</td>\n",
       "    </tr>\n",
       "    <tr>\n",
       "      <th>1</th>\n",
       "      <td>1</td>\n",
       "      <td>Lisovynya38</td>\n",
       "      <td>40</td>\n",
       "      <td>Male</td>\n",
       "      <td>143</td>\n",
       "      <td>Frenzied Scimitar</td>\n",
       "      <td>1.56</td>\n",
       "    </tr>\n",
       "    <tr>\n",
       "      <th>2</th>\n",
       "      <td>2</td>\n",
       "      <td>Ithergue48</td>\n",
       "      <td>24</td>\n",
       "      <td>Male</td>\n",
       "      <td>92</td>\n",
       "      <td>Final Critic</td>\n",
       "      <td>4.88</td>\n",
       "    </tr>\n",
       "    <tr>\n",
       "      <th>3</th>\n",
       "      <td>3</td>\n",
       "      <td>Chamassasya86</td>\n",
       "      <td>24</td>\n",
       "      <td>Male</td>\n",
       "      <td>100</td>\n",
       "      <td>Blindscythe</td>\n",
       "      <td>3.27</td>\n",
       "    </tr>\n",
       "    <tr>\n",
       "      <th>4</th>\n",
       "      <td>4</td>\n",
       "      <td>Iskosia90</td>\n",
       "      <td>23</td>\n",
       "      <td>Male</td>\n",
       "      <td>131</td>\n",
       "      <td>Fury</td>\n",
       "      <td>1.44</td>\n",
       "    </tr>\n",
       "  </tbody>\n",
       "</table>\n",
       "</div>"
      ],
      "text/plain": [
       "   Purchase ID             SN  Age Gender  Item ID  \\\n",
       "0            0        Lisim78   20   Male      108   \n",
       "1            1    Lisovynya38   40   Male      143   \n",
       "2            2     Ithergue48   24   Male       92   \n",
       "3            3  Chamassasya86   24   Male      100   \n",
       "4            4      Iskosia90   23   Male      131   \n",
       "\n",
       "                                   Item Name  Price  \n",
       "0  Extraction, Quickblade Of Trembling Hands   3.53  \n",
       "1                          Frenzied Scimitar   1.56  \n",
       "2                               Final Critic   4.88  \n",
       "3                                Blindscythe   3.27  \n",
       "4                                       Fury   1.44  "
      ]
     },
     "execution_count": 1,
     "metadata": {},
     "output_type": "execute_result"
    }
   ],
   "source": [
    "# Dependencies and Setup\n",
    "import pandas as pd\n",
    "import numpy as np\n",
    "\n",
    "# File to Load (Remember to Change These)\n",
    "file_to_load = \"Resources/purchase_data.csv\"\n",
    "\n",
    "# Read Purchasing File and store into Pandas data frame\n",
    "purchase_data = pd.read_csv(file_to_load)\n",
    "purchase_data.head()\n",
    "# purchase_data.describe()\n",
    "# list(purchase_data)"
   ]
  },
  {
   "cell_type": "markdown",
   "metadata": {},
   "source": [
    "## Player Count"
   ]
  },
  {
   "cell_type": "markdown",
   "metadata": {},
   "source": [
    "* Display the total number of players\n"
   ]
  },
  {
   "cell_type": "code",
   "execution_count": 2,
   "metadata": {},
   "outputs": [
    {
     "name": "stdout",
     "output_type": "stream",
     "text": [
      "448 75 53\n"
     ]
    }
   ],
   "source": [
    "# players = purchase_data[\"SN\"].count()\n",
    "# print(players)\n",
    "\n",
    "# total number of unique account is defined by SN, \"screen name\"?\n",
    "purchase_data[\"SN\"].value_counts()\n",
    "purchase_data[\"Purchase ID\"].value_counts()\n",
    "\n",
    "players = purchase_data[\"SN\"].value_counts()\n",
    "# print(players)\n",
    "# print(purchase_data[\"SN\"].unique())\n",
    "# print(len(players))\n",
    "\n",
    "Total_Players = pd.DataFrame({\"Total Players\": [len(players)]})\n",
    "Total_Players\n",
    "\n",
    "# Find the total players in different genders\n",
    "male_players = 0\n",
    "female_players = 0\n",
    "other_players = 0\n",
    "j = 0\n",
    "\n",
    "for i in purchase_data[\"Purchase ID\"]:\n",
    "    if purchase_data[\"Gender\"][i] == \"Male\" and purchase_data[\"SN\"].unique()[j] == purchase_data[\"SN\"][i]:\n",
    "        male_players += 1\n",
    "        j += 1\n",
    "    elif purchase_data[\"Gender\"][i] == \"Female\" and purchase_data[\"SN\"].unique()[j] == purchase_data[\"SN\"][i]:\n",
    "        female_players += 1\n",
    "        j += 1\n",
    "    elif purchase_data[\"Gender\"][i] != \"Male\" or \"Female\" and purchase_data[\"SN\"].unique()[j] == purchase_data[\"SN\"][i]:\n",
    "        other_players += 1\n",
    "        j += 1\n",
    "    if j == len(players):\n",
    "        break\n",
    "\n",
    "print(male_players, female_players, other_players)\n"
   ]
  },
  {
   "cell_type": "markdown",
   "metadata": {},
   "source": [
    "## Purchasing Analysis (Total)"
   ]
  },
  {
   "cell_type": "markdown",
   "metadata": {},
   "source": [
    "* Run basic calculations to obtain number of unique items, average price, etc.\n",
    "\n",
    "\n",
    "* Create a summary data frame to hold the results\n",
    "\n",
    "\n",
    "* Optional: give the displayed data cleaner formatting\n",
    "\n",
    "\n",
    "* Display the summary data frame\n"
   ]
  },
  {
   "cell_type": "code",
   "execution_count": null,
   "metadata": {
    "scrolled": true
   },
   "outputs": [],
   "source": [
    "# Purchasing Analysis\n",
    "\n",
    "# Total number of unique items\n",
    "unique_items = purchase_data[\"Item ID\"].unique()\n",
    "# print(unique_items)\n",
    "\n",
    "# purchase_data[\"Item ID\"].value_counts()\n",
    "# purchase_data[\"Item Name\"].value_counts()\n",
    "# There are total 183 unique item ID and 179 unique item name\n",
    "# For example, item \"Final Critic\" has ID number 92 and 101\n",
    "# However, the two \"Final Critic\"s are in different prices, therefore\n",
    "# I will go with item ID whether than item name for this analysis\n",
    "items = len(purchase_data[\"Item ID\"].value_counts())\n",
    "# print(items)\n",
    "\n",
    "\n",
    "# Average Price of the purchased items\n",
    "# item_prices = purchase_data[\"Price\"].unique()\n",
    "# print(item_prices)\n",
    "# print(len(item_prices))\n",
    "# avg_price = sum(item_prices) / len(item_prices)\n",
    "# print(avg_price)\n",
    "# Since some items can have the same price, by adding just the \n",
    "# unique prices will not be correct.\n",
    "\n",
    "# Search for item prices\n",
    "item_prices = []\n",
    "j = 0\n",
    "for i in range(len(purchase_data[\"Item ID\"])):\n",
    "#     print(i)\n",
    "    if purchase_data[\"Item ID\"][i] == unique_items[j]:\n",
    "        item_prices.append(purchase_data[\"Price\"][i])\n",
    "        j += 1\n",
    "    if j == len(purchase_data[\"Item ID\"].value_counts()):\n",
    "        break\n",
    "# print(item_prices)\n",
    "# print(len(item_prices))\n",
    "\n",
    "avg_price = sum(item_prices) / len(item_prices)\n",
    "# print(avg_price)\n",
    "\n",
    "# look for total number of purchases\n",
    "num_purchases = len(purchase_data[\"Price\"])\n",
    "# print(num_purchases)\n",
    "\n",
    "# calculate total revenue \n",
    "total_revenue = purchase_data[\"Price\"].sum()\n",
    "# print(total_revenue)\n",
    "\n",
    "purchase_analysis_df = pd.DataFrame({\n",
    "    \"Number of Unique Items\": items,\n",
    "    \"Average\": avg_price,\n",
    "    \"Number of Purchases\": num_purchases,\n",
    "    \"Total Revenue\": total_revenue\n",
    "})\n"
   ]
  },
  {
   "cell_type": "markdown",
   "metadata": {},
   "source": [
    "## Gender Demographics"
   ]
  },
  {
   "cell_type": "markdown",
   "metadata": {},
   "source": [
    "* Percentage and Count of Male Players\n",
    "\n",
    "\n",
    "* Percentage and Count of Female Players\n",
    "\n",
    "\n",
    "* Percentage and Count of Other / Non-Disclosed\n",
    "\n",
    "\n"
   ]
  },
  {
   "cell_type": "code",
   "execution_count": 6,
   "metadata": {},
   "outputs": [
    {
     "name": "stdout",
     "output_type": "stream",
     "text": [
      "113\n",
      "3.203008849557519\n",
      "4.825866666666662\n"
     ]
    }
   ],
   "source": [
    "# Gender Demographics Summary\n",
    "\n",
    "# Purchase counts by gender\n",
    "male_count = 0\n",
    "female_count = 0\n",
    "other_count = 0\n",
    "male_total_purchase = []\n",
    "female_total_purchase = []\n",
    "other_total_purchase = []\n",
    "\n",
    "j = 0\n",
    "\n",
    "for i in purchase_data[\"Gender\"]:\n",
    "    if i == \"Male\":\n",
    "        male_count += 1\n",
    "        male_total_purchase.append(purchase_data[\"Price\"][j])\n",
    "        j += 1\n",
    "    elif i == \"Female\":\n",
    "        female_count += 1\n",
    "        female_total_purchase.append(purchase_data[\"Price\"][j])\n",
    "        j += 1\n",
    "    else:\n",
    "        other_count += 1\n",
    "        other_total_purchase.append(purchase_data[\"Price\"][j])\n",
    "        j += 1\n",
    "\n",
    "# print(male_count)\n",
    "# print(sum(male_total_purchase))\n",
    "\n",
    "# Fine the average price per purchase\n",
    "male_avg_purchase = sum(male_total_purchase) / len(male_total_purchase)\n",
    "female_avg_purchase = sum(female_total_purchase) / len(female_total_purchase)\n",
    "other_avg_purchase = sum(other_total_purchase) / len(female_total_purchase)\n",
    "print(len(female_total_purchase))\n",
    "print(female_avg_purchase)\n",
    "\n",
    "# find the average purchase per person (ppp)\n",
    "male_avg_ppp = sum(male_total_purchase) / male_players\n",
    "female_avg_ppp = sum(female_total_purchase) / female_players\n",
    "other_avg_ppp = sum(other_total_purchase) / other_players\n",
    "\n",
    "print(female_avg_ppp)\n",
    "\n",
    "# Need to check the total number of male, female, and other players\n",
    "# Result is not matching\n"
   ]
  },
  {
   "cell_type": "markdown",
   "metadata": {},
   "source": [
    "\n",
    "## Purchasing Analysis (Gender)"
   ]
  },
  {
   "cell_type": "markdown",
   "metadata": {},
   "source": [
    "* Run basic calculations to obtain purchase count, avg. purchase price, avg. purchase total per person etc. by gender\n",
    "\n",
    "\n",
    "\n",
    "\n",
    "* Create a summary data frame to hold the results\n",
    "\n",
    "\n",
    "* Optional: give the displayed data cleaner formatting\n",
    "\n",
    "\n",
    "* Display the summary data frame"
   ]
  },
  {
   "cell_type": "code",
   "execution_count": null,
   "metadata": {},
   "outputs": [],
   "source": []
  },
  {
   "cell_type": "markdown",
   "metadata": {},
   "source": [
    "## Age Demographics"
   ]
  },
  {
   "cell_type": "markdown",
   "metadata": {},
   "source": [
    "* Establish bins for ages\n",
    "\n",
    "\n",
    "* Categorize the existing players using the age bins. Hint: use pd.cut()\n",
    "\n",
    "\n",
    "* Calculate the numbers and percentages by age group\n",
    "\n",
    "\n",
    "* Create a summary data frame to hold the results\n",
    "\n",
    "\n",
    "* Optional: round the percentage column to two decimal points\n",
    "\n",
    "\n",
    "* Display Age Demographics Table\n"
   ]
  },
  {
   "cell_type": "code",
   "execution_count": null,
   "metadata": {},
   "outputs": [],
   "source": []
  },
  {
   "cell_type": "markdown",
   "metadata": {},
   "source": [
    "## Purchasing Analysis (Age)"
   ]
  },
  {
   "cell_type": "markdown",
   "metadata": {},
   "source": [
    "* Bin the purchase_data data frame by age\n",
    "\n",
    "\n",
    "* Run basic calculations to obtain purchase count, avg. purchase price, avg. purchase total per person etc. in the table below\n",
    "\n",
    "\n",
    "* Create a summary data frame to hold the results\n",
    "\n",
    "\n",
    "* Optional: give the displayed data cleaner formatting\n",
    "\n",
    "\n",
    "* Display the summary data frame"
   ]
  },
  {
   "cell_type": "code",
   "execution_count": null,
   "metadata": {},
   "outputs": [],
   "source": []
  },
  {
   "cell_type": "markdown",
   "metadata": {},
   "source": [
    "## Top Spenders"
   ]
  },
  {
   "cell_type": "markdown",
   "metadata": {},
   "source": [
    "* Run basic calculations to obtain the results in the table below\n",
    "\n",
    "\n",
    "* Create a summary data frame to hold the results\n",
    "\n",
    "\n",
    "* Sort the total purchase value column in descending order\n",
    "\n",
    "\n",
    "* Optional: give the displayed data cleaner formatting\n",
    "\n",
    "\n",
    "* Display a preview of the summary data frame\n",
    "\n"
   ]
  },
  {
   "cell_type": "code",
   "execution_count": null,
   "metadata": {},
   "outputs": [],
   "source": []
  },
  {
   "cell_type": "markdown",
   "metadata": {},
   "source": [
    "## Most Popular Items"
   ]
  },
  {
   "cell_type": "markdown",
   "metadata": {},
   "source": [
    "* Retrieve the Item ID, Item Name, and Item Price columns\n",
    "\n",
    "\n",
    "* Group by Item ID and Item Name. Perform calculations to obtain purchase count, item price, and total purchase value\n",
    "\n",
    "\n",
    "* Create a summary data frame to hold the results\n",
    "\n",
    "\n",
    "* Sort the purchase count column in descending order\n",
    "\n",
    "\n",
    "* Optional: give the displayed data cleaner formatting\n",
    "\n",
    "\n",
    "* Display a preview of the summary data frame\n",
    "\n"
   ]
  },
  {
   "cell_type": "code",
   "execution_count": null,
   "metadata": {},
   "outputs": [],
   "source": []
  },
  {
   "cell_type": "markdown",
   "metadata": {},
   "source": [
    "## Most Profitable Items"
   ]
  },
  {
   "cell_type": "markdown",
   "metadata": {},
   "source": [
    "* Sort the above table by total purchase value in descending order\n",
    "\n",
    "\n",
    "* Optional: give the displayed data cleaner formatting\n",
    "\n",
    "\n",
    "* Display a preview of the data frame\n",
    "\n"
   ]
  },
  {
   "cell_type": "code",
   "execution_count": null,
   "metadata": {
    "scrolled": true
   },
   "outputs": [],
   "source": []
  }
 ],
 "metadata": {
  "anaconda-cloud": {},
  "kernel_info": {
   "name": "python3"
  },
  "kernelspec": {
   "display_name": "Python 3",
   "language": "python",
   "name": "python3"
  },
  "language_info": {
   "codemirror_mode": {
    "name": "ipython",
    "version": 3
   },
   "file_extension": ".py",
   "mimetype": "text/x-python",
   "name": "python",
   "nbconvert_exporter": "python",
   "pygments_lexer": "ipython3",
   "version": "3.7.1"
  },
  "nteract": {
   "version": "0.2.0"
  }
 },
 "nbformat": 4,
 "nbformat_minor": 2
}
